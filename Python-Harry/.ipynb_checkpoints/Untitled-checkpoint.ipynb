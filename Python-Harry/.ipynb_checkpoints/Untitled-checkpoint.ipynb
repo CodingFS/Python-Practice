{
 "cells": [
  {
   "cell_type": "code",
   "execution_count": 2,
   "metadata": {},
   "outputs": [
    {
     "name": "stdout",
     "output_type": "stream",
     "text": [
      "5\n",
      "Greater\n"
     ]
    }
   ],
   "source": [
    "var1 = int(input())\n",
    "var2 = 1\n",
    "if var1 > var2:\n",
    "    print(\"Greater\")\n",
    "else:\n",
    "    print(\"Smaller\")"
   ]
  },
  {
   "cell_type": "code",
   "execution_count": 3,
   "metadata": {},
   "outputs": [
    {
     "name": "stdout",
     "output_type": "stream",
     "text": [
      "1\n",
      "Equal\n"
     ]
    }
   ],
   "source": [
    "var1 = int(input())\n",
    "var2 = 1\n",
    "if var1 > var2:\n",
    "    print(\"Greater\")\n",
    "elif var2 == var1:\n",
    "    print(\"Equal\")\n",
    "else:\n",
    "    print(\"Smaller\")"
   ]
  },
  {
   "cell_type": "code",
   "execution_count": 4,
   "metadata": {},
   "outputs": [
    {
     "name": "stdout",
     "output_type": "stream",
     "text": [
      "Yes\n"
     ]
    }
   ],
   "source": [
    "list = [1,2,3,4,5]\n",
    "if 4 in list:\n",
    "    print(\"Yes\")"
   ]
  },
  {
   "cell_type": "code",
   "execution_count": 6,
   "metadata": {},
   "outputs": [
    {
     "name": "stdout",
     "output_type": "stream",
     "text": [
      "Yes\n"
     ]
    }
   ],
   "source": [
    "list = [1,2,3,4,5]\n",
    "if 14 not in list:\n",
    "    print(\"Yes\")"
   ]
  },
  {
   "cell_type": "code",
   "execution_count": 7,
   "metadata": {},
   "outputs": [
    {
     "name": "stdout",
     "output_type": "stream",
     "text": [
      "Enter Your Age\n",
      "18\n",
      "Come to the office\n"
     ]
    }
   ],
   "source": [
    "print(\"Enter Your Age\")\n",
    "age = int(input())\n",
    "if age > 18:\n",
    "    print(\"You can drive\")\n",
    "elif age < 18:\n",
    "    print(\"You cant drive\")\n",
    "else:\n",
    "    print(\"Come to the office\")"
   ]
  },
  {
   "cell_type": "code",
   "execution_count": 9,
   "metadata": {},
   "outputs": [],
   "source": [
    "#Lecture 14"
   ]
  },
  {
   "cell_type": "code",
   "execution_count": 10,
   "metadata": {},
   "outputs": [],
   "source": [
    "#lecture 15"
   ]
  },
  {
   "cell_type": "code",
   "execution_count": 11,
   "metadata": {},
   "outputs": [],
   "source": [
    "#lecture 16"
   ]
  },
  {
   "cell_type": "code",
   "execution_count": 12,
   "metadata": {},
   "outputs": [
    {
     "name": "stdout",
     "output_type": "stream",
     "text": [
      "Ashu\n",
      "Ashutosh\n",
      "Ankush\n",
      "Pranay\n",
      "Milind\n"
     ]
    }
   ],
   "source": [
    "list = [\"Ashu\", \"Ashutosh\", \"Ankush\", \"Pranay\", \"Milind\"]\n",
    "for item in list:\n",
    "    print(item)"
   ]
  },
  {
   "cell_type": "code",
   "execution_count": 13,
   "metadata": {},
   "outputs": [
    {
     "name": "stdout",
     "output_type": "stream",
     "text": [
      "Ashu\n",
      "Ashutosh\n",
      "Ankush\n",
      "Pranay\n",
      "Milind\n"
     ]
    }
   ],
   "source": [
    "tuple =  (\"Ashu\", \"Ashutosh\", \"Ankush\", \"Pranay\", \"Milind\")\n",
    "for item in tuple:\n",
    "    print(item)"
   ]
  },
  {
   "cell_type": "code",
   "execution_count": 16,
   "metadata": {},
   "outputs": [],
   "source": [
    "list = [[\"Ashu\",1], [\"Ashutosh\",2] ,[\"Ankush\",3] ,[\"Pranay\",4], [\"Milind\",5]]"
   ]
  },
  {
   "cell_type": "code",
   "execution_count": 17,
   "metadata": {},
   "outputs": [
    {
     "name": "stdout",
     "output_type": "stream",
     "text": [
      "Ashu 1\n",
      "Ashutosh 2\n",
      "Ankush 3\n",
      "Pranay 4\n",
      "Milind 5\n"
     ]
    }
   ],
   "source": [
    "for item, num in list:\n",
    "    print(item,num)"
   ]
  },
  {
   "cell_type": "code",
   "execution_count": 18,
   "metadata": {},
   "outputs": [],
   "source": [
    "#lecture 17"
   ]
  },
  {
   "cell_type": "code",
   "execution_count": null,
   "metadata": {},
   "outputs": [],
   "source": []
  }
 ],
 "metadata": {
  "kernelspec": {
   "display_name": "Python 3",
   "language": "python",
   "name": "python3"
  },
  "language_info": {
   "codemirror_mode": {
    "name": "ipython",
    "version": 3
   },
   "file_extension": ".py",
   "mimetype": "text/x-python",
   "name": "python",
   "nbconvert_exporter": "python",
   "pygments_lexer": "ipython3",
   "version": "3.7.4"
  }
 },
 "nbformat": 4,
 "nbformat_minor": 2
}
